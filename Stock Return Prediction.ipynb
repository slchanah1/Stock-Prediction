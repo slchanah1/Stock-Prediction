{
 "cells": [
  {
   "cell_type": "markdown",
   "metadata": {
    "slideshow": {
     "slide_type": "slide"
    }
   },
   "source": [
    "# Evaluation of Regression Models\n",
    "\n",
    "<center>From statistics to practice </center>"
   ]
  },
  {
   "cell_type": "markdown",
   "metadata": {
    "slideshow": {
     "slide_type": "slide"
    }
   },
   "source": [
    "## Statistical Standards\n"
   ]
  },
  {
   "cell_type": "markdown",
   "metadata": {
    "slideshow": {
     "slide_type": "fragment"
    }
   },
   "source": [
    "- Robustness\n",
    "- Effectiveness "
   ]
  },
  {
   "cell_type": "code",
   "execution_count": 1,
   "metadata": {
    "slideshow": {
     "slide_type": "slide"
    }
   },
   "outputs": [
    {
     "data": {
      "text/html": [
       "<div>\n",
       "<style>\n",
       "    .dataframe thead tr:only-child th {\n",
       "        text-align: right;\n",
       "    }\n",
       "\n",
       "    .dataframe thead th {\n",
       "        text-align: left;\n",
       "    }\n",
       "\n",
       "    .dataframe tbody tr th {\n",
       "        vertical-align: top;\n",
       "    }\n",
       "</style>\n",
       "<table border=\"1\" class=\"dataframe\">\n",
       "  <thead>\n",
       "    <tr style=\"text-align: right;\">\n",
       "      <th></th>\n",
       "      <th>Price</th>\n",
       "      <th>sp500</th>\n",
       "      <th>nikkei</th>\n",
       "      <th>aord</th>\n",
       "      <th>nyse</th>\n",
       "      <th>dax</th>\n",
       "      <th>ftse</th>\n",
       "      <th>hangseng</th>\n",
       "      <th>djia</th>\n",
       "    </tr>\n",
       "  </thead>\n",
       "  <tbody>\n",
       "    <tr>\n",
       "      <th>2013-09-09</th>\n",
       "      <td>1655.08</td>\n",
       "      <td>0.000000</td>\n",
       "      <td>0.024545</td>\n",
       "      <td>0.006858</td>\n",
       "      <td>0.000000</td>\n",
       "      <td>0.000000</td>\n",
       "      <td>-0.002537</td>\n",
       "      <td>0.005705</td>\n",
       "      <td>0.000000</td>\n",
       "    </tr>\n",
       "    <tr>\n",
       "      <th>2013-09-10</th>\n",
       "      <td>1671.71</td>\n",
       "      <td>0.009998</td>\n",
       "      <td>0.015239</td>\n",
       "      <td>0.003758</td>\n",
       "      <td>0.012614</td>\n",
       "      <td>0.005007</td>\n",
       "      <td>0.008121</td>\n",
       "      <td>0.009885</td>\n",
       "      <td>0.008376</td>\n",
       "    </tr>\n",
       "    <tr>\n",
       "      <th>2013-09-11</th>\n",
       "      <td>1683.99</td>\n",
       "      <td>0.007319</td>\n",
       "      <td>0.000119</td>\n",
       "      <td>0.006079</td>\n",
       "      <td>0.008432</td>\n",
       "      <td>0.020358</td>\n",
       "      <td>0.000674</td>\n",
       "      <td>-0.001721</td>\n",
       "      <td>0.008458</td>\n",
       "    </tr>\n",
       "    <tr>\n",
       "      <th>2013-09-12</th>\n",
       "      <td>1689.13</td>\n",
       "      <td>0.003048</td>\n",
       "      <td>-0.002624</td>\n",
       "      <td>0.001452</td>\n",
       "      <td>0.003597</td>\n",
       "      <td>0.005807</td>\n",
       "      <td>0.000083</td>\n",
       "      <td>0.000723</td>\n",
       "      <td>0.008883</td>\n",
       "    </tr>\n",
       "    <tr>\n",
       "      <th>2013-09-13</th>\n",
       "      <td>1683.42</td>\n",
       "      <td>-0.003386</td>\n",
       "      <td>0.001209</td>\n",
       "      <td>-0.004496</td>\n",
       "      <td>-0.004990</td>\n",
       "      <td>-0.000204</td>\n",
       "      <td>-0.000786</td>\n",
       "      <td>-0.001676</td>\n",
       "      <td>-0.001695</td>\n",
       "    </tr>\n",
       "  </tbody>\n",
       "</table>\n",
       "</div>"
      ],
      "text/plain": [
       "              Price     sp500    nikkei      aord      nyse       dax  \\\n",
       "2013-09-09  1655.08  0.000000  0.024545  0.006858  0.000000  0.000000   \n",
       "2013-09-10  1671.71  0.009998  0.015239  0.003758  0.012614  0.005007   \n",
       "2013-09-11  1683.99  0.007319  0.000119  0.006079  0.008432  0.020358   \n",
       "2013-09-12  1689.13  0.003048 -0.002624  0.001452  0.003597  0.005807   \n",
       "2013-09-13  1683.42 -0.003386  0.001209 -0.004496 -0.004990 -0.000204   \n",
       "\n",
       "                ftse  hangseng      djia  \n",
       "2013-09-09 -0.002537  0.005705  0.000000  \n",
       "2013-09-10  0.008121  0.009885  0.008376  \n",
       "2013-09-11  0.000674 -0.001721  0.008458  \n",
       "2013-09-12  0.000083  0.000723  0.008883  \n",
       "2013-09-13 -0.000786 -0.001676 -0.001695  "
      ]
     },
     "execution_count": 1,
     "metadata": {},
     "output_type": "execute_result"
    }
   ],
   "source": [
    "import pandas as pd\n",
    "import numpy as np\n",
    "import matplotlib.pyplot as plt\n",
    "%matplotlib inline\n",
    "import statsmodels.formula.api as smf\n",
    "data = pd.read_csv('indicepanel.csv',index_col=0)\n",
    "ReturnPanel=pd.DataFrame()\n",
    "ReturnPanel['Price']=data['sp500']\n",
    "ReturnPanel['sp500']=np.log(data['sp500'])-np.log(data['sp500'].shift(1))\n",
    "ReturnPanel['nikkei']=np.log(data['nikkei'])-np.log(data['nikkei'].shift(1))\n",
    "ReturnPanel['aord']=np.log(data['aord'])-np.log(data['aord'].shift(1))\n",
    "ReturnPanel['nyse']=np.log(data['nyse'])-np.log(data['nyse'].shift(1))\n",
    "ReturnPanel['dax']=np.log(data['dax'])-np.log(data['dax'].shift(1))\n",
    "ReturnPanel['ftse']=np.log(data['ftse'])-np.log(data['ftse'].shift(1))\n",
    "ReturnPanel['hangseng']=np.log(data['hangseng'])-np.log(data['hangseng'].shift(1))\n",
    "ReturnPanel['djia']=np.log(data['djia'])-np.log(data['djia'].shift(1))\n",
    "ReturnPanel=ReturnPanel.dropna(axis=0)\n",
    "ReturnPanel.head()\n"
   ]
  },
  {
   "cell_type": "code",
   "execution_count": 2,
   "metadata": {
    "slideshow": {
     "slide_type": "slide"
    }
   },
   "outputs": [
    {
     "data": {
      "text/html": [
       "<div>\n",
       "<style>\n",
       "    .dataframe thead tr:only-child th {\n",
       "        text-align: right;\n",
       "    }\n",
       "\n",
       "    .dataframe thead th {\n",
       "        text-align: left;\n",
       "    }\n",
       "\n",
       "    .dataframe tbody tr th {\n",
       "        vertical-align: top;\n",
       "    }\n",
       "</style>\n",
       "<table border=\"1\" class=\"dataframe\">\n",
       "  <thead>\n",
       "    <tr style=\"text-align: right;\">\n",
       "      <th></th>\n",
       "      <th>Price</th>\n",
       "      <th>sp500</th>\n",
       "      <th>sp500_lag</th>\n",
       "      <th>nikkei</th>\n",
       "      <th>nikkei_lag</th>\n",
       "      <th>aord</th>\n",
       "      <th>aord_lag</th>\n",
       "      <th>hangseng</th>\n",
       "      <th>hangseng_lag</th>\n",
       "      <th>nyse_lag</th>\n",
       "      <th>dax_lag</th>\n",
       "      <th>ftse_lag</th>\n",
       "      <th>djia_lag</th>\n",
       "    </tr>\n",
       "  </thead>\n",
       "  <tbody>\n",
       "    <tr>\n",
       "      <th>2013-09-10</th>\n",
       "      <td>1671.71</td>\n",
       "      <td>0.009998</td>\n",
       "      <td>0.000000</td>\n",
       "      <td>0.015239</td>\n",
       "      <td>0.024545</td>\n",
       "      <td>0.003758</td>\n",
       "      <td>0.006858</td>\n",
       "      <td>0.009885</td>\n",
       "      <td>0.005705</td>\n",
       "      <td>0.000000</td>\n",
       "      <td>0.000000</td>\n",
       "      <td>-0.002537</td>\n",
       "      <td>0.000000</td>\n",
       "    </tr>\n",
       "    <tr>\n",
       "      <th>2013-09-11</th>\n",
       "      <td>1683.99</td>\n",
       "      <td>0.007319</td>\n",
       "      <td>0.009998</td>\n",
       "      <td>0.000119</td>\n",
       "      <td>0.015239</td>\n",
       "      <td>0.006079</td>\n",
       "      <td>0.003758</td>\n",
       "      <td>-0.001721</td>\n",
       "      <td>0.009885</td>\n",
       "      <td>0.012614</td>\n",
       "      <td>0.005007</td>\n",
       "      <td>0.008121</td>\n",
       "      <td>0.008376</td>\n",
       "    </tr>\n",
       "    <tr>\n",
       "      <th>2013-09-12</th>\n",
       "      <td>1689.13</td>\n",
       "      <td>0.003048</td>\n",
       "      <td>0.007319</td>\n",
       "      <td>-0.002624</td>\n",
       "      <td>0.000119</td>\n",
       "      <td>0.001452</td>\n",
       "      <td>0.006079</td>\n",
       "      <td>0.000723</td>\n",
       "      <td>-0.001721</td>\n",
       "      <td>0.008432</td>\n",
       "      <td>0.020358</td>\n",
       "      <td>0.000674</td>\n",
       "      <td>0.008458</td>\n",
       "    </tr>\n",
       "    <tr>\n",
       "      <th>2013-09-13</th>\n",
       "      <td>1683.42</td>\n",
       "      <td>-0.003386</td>\n",
       "      <td>0.003048</td>\n",
       "      <td>0.001209</td>\n",
       "      <td>-0.002624</td>\n",
       "      <td>-0.004496</td>\n",
       "      <td>0.001452</td>\n",
       "      <td>-0.001676</td>\n",
       "      <td>0.000723</td>\n",
       "      <td>0.003597</td>\n",
       "      <td>0.005807</td>\n",
       "      <td>0.000083</td>\n",
       "      <td>0.008883</td>\n",
       "    </tr>\n",
       "    <tr>\n",
       "      <th>2013-09-17</th>\n",
       "      <td>1697.60</td>\n",
       "      <td>0.008388</td>\n",
       "      <td>-0.003386</td>\n",
       "      <td>-0.006477</td>\n",
       "      <td>0.001209</td>\n",
       "      <td>0.005832</td>\n",
       "      <td>-0.004496</td>\n",
       "      <td>0.011508</td>\n",
       "      <td>-0.001676</td>\n",
       "      <td>-0.004990</td>\n",
       "      <td>-0.000204</td>\n",
       "      <td>-0.000786</td>\n",
       "      <td>-0.001695</td>\n",
       "    </tr>\n",
       "  </tbody>\n",
       "</table>\n",
       "</div>"
      ],
      "text/plain": [
       "              Price     sp500  sp500_lag    nikkei  nikkei_lag      aord  \\\n",
       "2013-09-10  1671.71  0.009998   0.000000  0.015239    0.024545  0.003758   \n",
       "2013-09-11  1683.99  0.007319   0.009998  0.000119    0.015239  0.006079   \n",
       "2013-09-12  1689.13  0.003048   0.007319 -0.002624    0.000119  0.001452   \n",
       "2013-09-13  1683.42 -0.003386   0.003048  0.001209   -0.002624 -0.004496   \n",
       "2013-09-17  1697.60  0.008388  -0.003386 -0.006477    0.001209  0.005832   \n",
       "\n",
       "            aord_lag  hangseng  hangseng_lag  nyse_lag   dax_lag  ftse_lag  \\\n",
       "2013-09-10  0.006858  0.009885      0.005705  0.000000  0.000000 -0.002537   \n",
       "2013-09-11  0.003758 -0.001721      0.009885  0.012614  0.005007  0.008121   \n",
       "2013-09-12  0.006079  0.000723     -0.001721  0.008432  0.020358  0.000674   \n",
       "2013-09-13  0.001452 -0.001676      0.000723  0.003597  0.005807  0.000083   \n",
       "2013-09-17 -0.004496  0.011508     -0.001676 -0.004990 -0.000204 -0.000786   \n",
       "\n",
       "            djia_lag  \n",
       "2013-09-10  0.000000  \n",
       "2013-09-11  0.008376  \n",
       "2013-09-12  0.008458  \n",
       "2013-09-13  0.008883  \n",
       "2013-09-17 -0.001695  "
      ]
     },
     "execution_count": 2,
     "metadata": {},
     "output_type": "execute_result"
    }
   ],
   "source": [
    "dataMatrix=pd.DataFrame()\n",
    "dataMatrix['Price']=ReturnPanel['Price']\n",
    "dataMatrix['sp500']=ReturnPanel['sp500']\n",
    "dataMatrix['sp500_lag']=ReturnPanel['sp500'].shift(1)\n",
    "dataMatrix['nikkei']=ReturnPanel['nikkei']\n",
    "dataMatrix['nikkei_lag']=ReturnPanel['nikkei'].shift(1)\n",
    "dataMatrix['aord']=ReturnPanel['aord']\n",
    "dataMatrix['aord_lag']=ReturnPanel['aord'].shift(1)\n",
    "dataMatrix['hangseng']=ReturnPanel['hangseng']\n",
    "dataMatrix['hangseng_lag']=ReturnPanel['hangseng'].shift(1)\n",
    "dataMatrix['nyse_lag']=ReturnPanel['nyse'].shift(1)\n",
    "dataMatrix['dax_lag']=ReturnPanel['dax'].shift(1)\n",
    "dataMatrix['ftse_lag']=ReturnPanel['ftse'].shift(1)\n",
    "dataMatrix['djia_lag']=ReturnPanel['djia'].shift(1)\n",
    "dataMatrix=dataMatrix.dropna(axis=0)\n",
    "dataMatrix.index=pd.to_datetime(dataMatrix.index)\n",
    "dataMatrix.head()"
   ]
  },
  {
   "cell_type": "code",
   "execution_count": 3,
   "metadata": {
    "slideshow": {
     "slide_type": "slide"
    }
   },
   "outputs": [
    {
     "name": "stdout",
     "output_type": "stream",
     "text": [
      "(974, 13)\n",
      "(580, 13) (194, 13)\n"
     ]
    }
   ],
   "source": [
    "print(dataMatrix.shape)\n",
    "Train=dataMatrix.iloc[200:780,:]\n",
    "Test=dataMatrix.iloc[780:,:]\n",
    "print(Train.shape,Test.shape)"
   ]
  },
  {
   "cell_type": "markdown",
   "metadata": {
    "slideshow": {
     "slide_type": "slide"
    }
   },
   "source": [
    "We build our multiple linear regression models with train. "
   ]
  },
  {
   "cell_type": "code",
   "execution_count": 4,
   "metadata": {
    "collapsed": true
   },
   "outputs": [],
   "source": [
    "lm= smf.ols(formula='sp500~nikkei+nikkei_lag+aord+aord_lag+ftse_lag+hangseng+hangseng_lag ', data=Train).fit()"
   ]
  },
  {
   "cell_type": "markdown",
   "metadata": {
    "slideshow": {
     "slide_type": "skip"
    }
   },
   "source": [
    "Then we can get our prediction for the train and test"
   ]
  },
  {
   "cell_type": "code",
   "execution_count": 5,
   "metadata": {
    "slideshow": {
     "slide_type": "skip"
    }
   },
   "outputs": [
    {
     "name": "stdout",
     "output_type": "stream",
     "text": [
      "train: 0.052172054542094476 0.03863998769509887 0.013532066846995608\n",
      "train: 0.0035824082772029156 0.0027451168184888164 0.0008372914587140992\n",
      "Train:  0.008219028290520883 0.2593738537951846 0.25031024711086003\n",
      "Test:  0.003841704383801611 0.2337230694899584 0.20488469038474166\n"
     ]
    }
   ],
   "source": [
    "# compute R2 adjusted R2, RMSE\n",
    "Train_predict=lm.predict(Train)\n",
    "Test_predict=lm.predict(Test)\n",
    "sst_train=((Train['sp500']-Train['sp500'].mean())**2).sum()\n",
    "sse_train=((Train['sp500']-Train_predict)**2).sum()\n",
    "ssr_train=sst_train-sse_train\n",
    "print(\"train:\", sst_train,sse_train,ssr_train)\n",
    "sst_test=((Test['sp500']-Test['sp500'].mean())**2).sum()\n",
    "sse_test=((Test['sp500']-Test_predict)**2).sum()\n",
    "ssr_test=sst_test-sse_test\n",
    "print(\"train:\", sst_test,sse_test,ssr_test)\n",
    "train_rmse=(sse_train/(Train.shape[0]-7-1))**0.5\n",
    "test_rmse=(sse_test/(Test.shape[0]-7-1))**0.5\n",
    "r2_train=ssr_train/sst_train\n",
    "r2_test=ssr_test/sst_test\n",
    "adjust_r2_train=1-(1-r2_train)*(Train.shape[0]-1)/(Train.shape[0]-7-1)\n",
    "adjust_r2_test=1-(1-r2_test)*(Test.shape[0]-1)/(Test.shape[0]-7-1)\n",
    "print(\"Train: \", train_rmse,r2_train,adjust_r2_train)\n",
    "print(\"Test: \", test_rmse,r2_test,adjust_r2_test)"
   ]
  },
  {
   "cell_type": "markdown",
   "metadata": {
    "slideshow": {
     "slide_type": "slide"
    }
   },
   "source": [
    "Then we compute SST,SSE, SSR"
   ]
  },
  {
   "cell_type": "code",
   "execution_count": 6,
   "metadata": {
    "slideshow": {
     "slide_type": "subslide"
    }
   },
   "outputs": [
    {
     "name": "stdout",
     "output_type": "stream",
     "text": [
      "train: 0.052172054542094476 0.03863998769509887 0.013532066846995608\n"
     ]
    }
   ],
   "source": [
    "sst_train=((Train['sp500']-Train['sp500'].mean())**2).sum()\n",
    "sse_train=((Train['sp500']-Train_predict)**2).sum()\n",
    "ssr_train=sst_train-sse_train\n",
    "print(\"train:\", sst_train,sse_train,ssr_train)\n"
   ]
  },
  {
   "cell_type": "code",
   "execution_count": 7,
   "metadata": {
    "slideshow": {
     "slide_type": "subslide"
    }
   },
   "outputs": [
    {
     "name": "stdout",
     "output_type": "stream",
     "text": [
      "train: 0.0035824082772029156 0.0027451168184888164 0.0008372914587140992\n"
     ]
    }
   ],
   "source": [
    "sst_test=((Test['sp500']-Test['sp500'].mean())**2).sum()\n",
    "sse_test=((Test['sp500']-Test_predict)**2).sum()\n",
    "ssr_test=sst_test-sse_test\n",
    "print(\"train:\", sst_test,sse_test,ssr_test)"
   ]
  },
  {
   "cell_type": "markdown",
   "metadata": {
    "slideshow": {
     "slide_type": "subslide"
    }
   },
   "source": [
    "Compute $R^2$,adjusted $R^2$, RMSE\n"
   ]
  },
  {
   "cell_type": "code",
   "execution_count": 8,
   "metadata": {
    "slideshow": {
     "slide_type": "subslide"
    }
   },
   "outputs": [
    {
     "name": "stdout",
     "output_type": "stream",
     "text": [
      "Train:  0.008219028290520883 0.2593738537951846 0.25031024711086003\n",
      "Test:  0.003841704383801611 0.2337230694899584 0.20488469038474166\n"
     ]
    }
   ],
   "source": [
    "train_rmse=(sse_train/(Train.shape[0]-7-1))**0.5\n",
    "test_rmse=(sse_test/(Test.shape[0]-7-1))**0.5\n",
    "r2_train=ssr_train/sst_train\n",
    "r2_test=ssr_test/sst_test\n",
    "adjust_r2_train=1-(1-r2_train)*(Train.shape[0]-1)/(Train.shape[0]-7-1)\n",
    "adjust_r2_test=1-(1-r2_test)*(Test.shape[0]-1)/(Test.shape[0]-7-1)\n",
    "print(\"Train: \", train_rmse,r2_train,adjust_r2_train)\n",
    "print(\"Test: \", test_rmse,r2_test,adjust_r2_test)\n"
   ]
  },
  {
   "cell_type": "markdown",
   "metadata": {},
   "source": [
    "We have the following conclusion\n",
    "1. The model is robust, $R^2$ remains the same, $RMSE$ even smaller\n",
    "2. The test data has smaller Adjusted $R^2$ because adjusted $R^2$ punish the fitness measure for small sample size. \n",
    "\n",
    "But still, a natural question raises: how large the difference between train and test is , we call they are different ?|"
   ]
  },
  {
   "cell_type": "markdown",
   "metadata": {},
   "source": [
    "All these questions are not questions in practice "
   ]
  },
  {
   "cell_type": "markdown",
   "metadata": {
    "slideshow": {
     "slide_type": "slide"
    }
   },
   "source": [
    "## Practical Standards"
   ]
  },
  {
   "cell_type": "markdown",
   "metadata": {},
   "source": [
    "We use model to build trading signal. Performance of  trading based on your signal is the practical standard of your models. \n"
   ]
  },
  {
   "cell_type": "markdown",
   "metadata": {
    "slideshow": {
     "slide_type": "fragment"
    }
   },
   "source": [
    "- Drawdown:the percentage decline in the strategy from the historical peak profit at each point in time. \n",
    "    "
   ]
  },
  {
   "cell_type": "markdown",
   "metadata": {
    "slideshow": {
     "slide_type": "fragment"
    }
   },
   "source": [
    "- Average Daily return \n",
    "  $$\n",
    "  (1+r)^{days}=1+R\n",
    "  $$\n",
    "  where $r$ is average Daily return and $R$ is total return.  \n"
   ]
  },
  {
   "cell_type": "markdown",
   "metadata": {
    "slideshow": {
     "slide_type": "fragment"
    }
   },
   "source": [
    "- Sharpe ratio: The ratio measures the excess return (or risk premium) per unit of deviation in an investment asset or a trading strategy, typically referred to as risk, named after William F. Sharpe\n",
    "$$\n",
    "SR=\\frac{E(R_a-R_b)}{\\sqrt{Var(R_a-R_b)}}\n",
    "$$\n",
    "Suppose the daily Shape ratio is $SR_{Day}$. Then yearly Shape ratio is \n",
    "$$\n",
    "SR_{Year}=\\sqrt{220}SR_{Day}\n",
    "$$"
   ]
  },
  {
   "cell_type": "markdown",
   "metadata": {
    "slideshow": {
     "slide_type": "slide"
    }
   },
   "source": [
    "### Trading strategy\n"
   ]
  },
  {
   "cell_type": "markdown",
   "metadata": {
    "slideshow": {
     "slide_type": "fragment"
    }
   },
   "source": [
    "- Benchmark Strategy I: Buy and Hold"
   ]
  },
  {
   "cell_type": "markdown",
   "metadata": {
    "slideshow": {
     "slide_type": "skip"
    }
   },
   "source": [
    "- Benchmark Strategy II: Persistent strategy, if last day's return is postive , we buy today, otherwise we short sell "
   ]
  },
  {
   "cell_type": "markdown",
   "metadata": {
    "slideshow": {
     "slide_type": "fragment"
    }
   },
   "source": [
    "- Signal-based Strategy: If Signal is postive , we buy, otherwise we short sell. "
   ]
  },
  {
   "cell_type": "markdown",
   "metadata": {
    "slideshow": {
     "slide_type": "subslide"
    }
   },
   "source": [
    "### What we trade\n"
   ]
  },
  {
   "cell_type": "markdown",
   "metadata": {
    "slideshow": {
     "slide_type": "fragment"
    }
   },
   "source": [
    " S&P 500 ETF (Exchanged traded fund)- SPY "
   ]
  },
  {
   "cell_type": "markdown",
   "metadata": {
    "collapsed": true
   },
   "source": [
    " "
   ]
  },
  {
   "cell_type": "markdown",
   "metadata": {
    "slideshow": {
     "slide_type": "slide"
    }
   },
   "source": [
    "# Signal-based Stratgy"
   ]
  },
  {
   "cell_type": "code",
   "execution_count": 9,
   "metadata": {
    "slideshow": {
     "slide_type": "subslide"
    }
   },
   "outputs": [
    {
     "data": {
      "text/html": [
       "<div>\n",
       "<style>\n",
       "    .dataframe thead tr:only-child th {\n",
       "        text-align: right;\n",
       "    }\n",
       "\n",
       "    .dataframe thead th {\n",
       "        text-align: left;\n",
       "    }\n",
       "\n",
       "    .dataframe tbody tr th {\n",
       "        vertical-align: top;\n",
       "    }\n",
       "</style>\n",
       "<table border=\"1\" class=\"dataframe\">\n",
       "  <thead>\n",
       "    <tr style=\"text-align: right;\">\n",
       "      <th></th>\n",
       "      <th>Price</th>\n",
       "      <th>Signal</th>\n",
       "    </tr>\n",
       "  </thead>\n",
       "  <tbody>\n",
       "    <tr>\n",
       "      <th>2014-07-09</th>\n",
       "      <td>1963.71</td>\n",
       "      <td>-0.004444</td>\n",
       "    </tr>\n",
       "    <tr>\n",
       "      <th>2014-07-10</th>\n",
       "      <td>1972.83</td>\n",
       "      <td>-0.002017</td>\n",
       "    </tr>\n",
       "    <tr>\n",
       "      <th>2014-07-11</th>\n",
       "      <td>1964.68</td>\n",
       "      <td>-0.001045</td>\n",
       "    </tr>\n",
       "    <tr>\n",
       "      <th>2014-07-14</th>\n",
       "      <td>1964.68</td>\n",
       "      <td>0.002429</td>\n",
       "    </tr>\n",
       "    <tr>\n",
       "      <th>2014-07-15</th>\n",
       "      <td>1977.10</td>\n",
       "      <td>0.003539</td>\n",
       "    </tr>\n",
       "  </tbody>\n",
       "</table>\n",
       "</div>"
      ],
      "text/plain": [
       "              Price    Signal\n",
       "2014-07-09  1963.71 -0.004444\n",
       "2014-07-10  1972.83 -0.002017\n",
       "2014-07-11  1964.68 -0.001045\n",
       "2014-07-14  1964.68  0.002429\n",
       "2014-07-15  1977.10  0.003539"
      ]
     },
     "execution_count": 9,
     "metadata": {},
     "output_type": "execute_result"
    }
   ],
   "source": [
    "Trade_Train=pd.DataFrame()\n",
    "Trade_Train['Price']=Train['Price']\n",
    "Trade_Train['Signal']=Train_predict\n",
    "Trade_Train.head()\n"
   ]
  },
  {
   "cell_type": "code",
   "execution_count": 10,
   "metadata": {
    "slideshow": {
     "slide_type": "subslide"
    }
   },
   "outputs": [
    {
     "data": {
      "text/html": [
       "<div>\n",
       "<style>\n",
       "    .dataframe thead tr:only-child th {\n",
       "        text-align: right;\n",
       "    }\n",
       "\n",
       "    .dataframe thead th {\n",
       "        text-align: left;\n",
       "    }\n",
       "\n",
       "    .dataframe tbody tr th {\n",
       "        vertical-align: top;\n",
       "    }\n",
       "</style>\n",
       "<table border=\"1\" class=\"dataframe\">\n",
       "  <thead>\n",
       "    <tr style=\"text-align: right;\">\n",
       "      <th></th>\n",
       "      <th>Price</th>\n",
       "      <th>Signal</th>\n",
       "    </tr>\n",
       "  </thead>\n",
       "  <tbody>\n",
       "    <tr>\n",
       "      <th>2016-11-22</th>\n",
       "      <td>2198.18</td>\n",
       "      <td>0.003352</td>\n",
       "    </tr>\n",
       "    <tr>\n",
       "      <th>2016-11-24</th>\n",
       "      <td>2204.72</td>\n",
       "      <td>0.004544</td>\n",
       "    </tr>\n",
       "    <tr>\n",
       "      <th>2016-11-25</th>\n",
       "      <td>2204.72</td>\n",
       "      <td>0.003104</td>\n",
       "    </tr>\n",
       "    <tr>\n",
       "      <th>2016-11-28</th>\n",
       "      <td>2204.72</td>\n",
       "      <td>-0.000277</td>\n",
       "    </tr>\n",
       "    <tr>\n",
       "      <th>2016-11-29</th>\n",
       "      <td>2201.72</td>\n",
       "      <td>-0.000763</td>\n",
       "    </tr>\n",
       "  </tbody>\n",
       "</table>\n",
       "</div>"
      ],
      "text/plain": [
       "              Price    Signal\n",
       "2016-11-22  2198.18  0.003352\n",
       "2016-11-24  2204.72  0.004544\n",
       "2016-11-25  2204.72  0.003104\n",
       "2016-11-28  2204.72 -0.000277\n",
       "2016-11-29  2201.72 -0.000763"
      ]
     },
     "execution_count": 10,
     "metadata": {},
     "output_type": "execute_result"
    }
   ],
   "source": [
    "Trade_Test=pd.DataFrame()\n",
    "Trade_Test['Price']=Test['Price']\n",
    "Trade_Test['Signal']=Test_predict\n",
    "Trade_Test.head()"
   ]
  },
  {
   "cell_type": "code",
   "execution_count": 11,
   "metadata": {
    "slideshow": {
     "slide_type": "subslide"
    }
   },
   "outputs": [
    {
     "name": "stdout",
     "output_type": "stream",
     "text": [
      "3989.610000000003\n"
     ]
    },
    {
     "data": {
      "text/html": [
       "<div>\n",
       "<style>\n",
       "    .dataframe thead tr:only-child th {\n",
       "        text-align: right;\n",
       "    }\n",
       "\n",
       "    .dataframe thead th {\n",
       "        text-align: left;\n",
       "    }\n",
       "\n",
       "    .dataframe tbody tr th {\n",
       "        vertical-align: top;\n",
       "    }\n",
       "</style>\n",
       "<table border=\"1\" class=\"dataframe\">\n",
       "  <thead>\n",
       "    <tr style=\"text-align: right;\">\n",
       "      <th></th>\n",
       "      <th>Price</th>\n",
       "      <th>Signal</th>\n",
       "      <th>Order</th>\n",
       "      <th>Price_change</th>\n",
       "      <th>Profit</th>\n",
       "      <th>Wealth</th>\n",
       "    </tr>\n",
       "  </thead>\n",
       "  <tbody>\n",
       "    <tr>\n",
       "      <th>2014-07-09</th>\n",
       "      <td>1963.71</td>\n",
       "      <td>-0.004444</td>\n",
       "      <td>-1</td>\n",
       "      <td>NaN</td>\n",
       "      <td>NaN</td>\n",
       "      <td>NaN</td>\n",
       "    </tr>\n",
       "    <tr>\n",
       "      <th>2014-07-10</th>\n",
       "      <td>1972.83</td>\n",
       "      <td>-0.002017</td>\n",
       "      <td>-1</td>\n",
       "      <td>9.12</td>\n",
       "      <td>-9.12</td>\n",
       "      <td>1954.59</td>\n",
       "    </tr>\n",
       "    <tr>\n",
       "      <th>2014-07-11</th>\n",
       "      <td>1964.68</td>\n",
       "      <td>-0.001045</td>\n",
       "      <td>-1</td>\n",
       "      <td>-8.15</td>\n",
       "      <td>8.15</td>\n",
       "      <td>1962.74</td>\n",
       "    </tr>\n",
       "    <tr>\n",
       "      <th>2014-07-14</th>\n",
       "      <td>1964.68</td>\n",
       "      <td>0.002429</td>\n",
       "      <td>1</td>\n",
       "      <td>0.00</td>\n",
       "      <td>0.00</td>\n",
       "      <td>1962.74</td>\n",
       "    </tr>\n",
       "    <tr>\n",
       "      <th>2014-07-15</th>\n",
       "      <td>1977.10</td>\n",
       "      <td>0.003539</td>\n",
       "      <td>1</td>\n",
       "      <td>12.42</td>\n",
       "      <td>12.42</td>\n",
       "      <td>1975.16</td>\n",
       "    </tr>\n",
       "  </tbody>\n",
       "</table>\n",
       "</div>"
      ],
      "text/plain": [
       "              Price    Signal  Order  Price_change  Profit   Wealth\n",
       "2014-07-09  1963.71 -0.004444     -1           NaN     NaN      NaN\n",
       "2014-07-10  1972.83 -0.002017     -1          9.12   -9.12  1954.59\n",
       "2014-07-11  1964.68 -0.001045     -1         -8.15    8.15  1962.74\n",
       "2014-07-14  1964.68  0.002429      1          0.00    0.00  1962.74\n",
       "2014-07-15  1977.10  0.003539      1         12.42   12.42  1975.16"
      ]
     },
     "execution_count": 11,
     "metadata": {},
     "output_type": "execute_result"
    }
   ],
   "source": [
    "Trade_Train['Order']=[1 if sig>0 else -1 for sig in Trade_Train['Signal']  ]\n",
    "Trade_Train['Price_change']=Trade_Train['Price']-Trade_Train['Price'].shift(1)\n",
    "Trade_Train['Profit']=Trade_Train['Price_change']*Trade_Train['Order']\n",
    "print(Trade_Train['Profit'].sum())\n",
    "Trade_Train['Wealth']=np.cumsum(Trade_Train['Profit'])+Trade_Train['Price'][0]\n",
    "Trade_Train.head()"
   ]
  },
  {
   "cell_type": "code",
   "execution_count": 12,
   "metadata": {
    "slideshow": {
     "slide_type": "subslide"
    }
   },
   "outputs": [
    {
     "data": {
      "text/plain": [
       "[<matplotlib.lines.Line2D at 0x1a175a8b70>]"
      ]
     },
     "execution_count": 12,
     "metadata": {},
     "output_type": "execute_result"
    },
    {
     "data": {
      "image/png": "[encoded data removed]",
      "text/plain": [
       "<matplotlib.figure.Figure at 0x1a175a8d30>"
      ]
     },
     "metadata": {},
     "output_type": "display_data"
    }
   ],
   "source": [
    "plt.plot(Trade_Train['Wealth'])\n",
    "plt.plot(Trade_Train['Price'])"
   ]
  },
  {
   "cell_type": "code",
   "execution_count": 15,
   "metadata": {
    "slideshow": {
     "slide_type": "subslide"
    }
   },
   "outputs": [
    {
     "name": "stdout",
     "output_type": "stream",
     "text": [
      "669.3899999999985\n"
     ]
    },
    {
     "data": {
      "text/html": [
       "<div>\n",
       "<style>\n",
       "    .dataframe thead tr:only-child th {\n",
       "        text-align: right;\n",
       "    }\n",
       "\n",
       "    .dataframe thead th {\n",
       "        text-align: left;\n",
       "    }\n",
       "\n",
       "    .dataframe tbody tr th {\n",
       "        vertical-align: top;\n",
       "    }\n",
       "</style>\n",
       "<table border=\"1\" class=\"dataframe\">\n",
       "  <thead>\n",
       "    <tr style=\"text-align: right;\">\n",
       "      <th></th>\n",
       "      <th>Price</th>\n",
       "      <th>Signal</th>\n",
       "      <th>Order</th>\n",
       "      <th>Price_change</th>\n",
       "      <th>Profit</th>\n",
       "      <th>Wealth</th>\n",
       "    </tr>\n",
       "  </thead>\n",
       "  <tbody>\n",
       "    <tr>\n",
       "      <th>2016-11-22</th>\n",
       "      <td>2198.18</td>\n",
       "      <td>0.003352</td>\n",
       "      <td>1</td>\n",
       "      <td>NaN</td>\n",
       "      <td>NaN</td>\n",
       "      <td>NaN</td>\n",
       "    </tr>\n",
       "    <tr>\n",
       "      <th>2016-11-24</th>\n",
       "      <td>2204.72</td>\n",
       "      <td>0.004544</td>\n",
       "      <td>1</td>\n",
       "      <td>6.54</td>\n",
       "      <td>6.54</td>\n",
       "      <td>2204.72</td>\n",
       "    </tr>\n",
       "    <tr>\n",
       "      <th>2016-11-25</th>\n",
       "      <td>2204.72</td>\n",
       "      <td>0.003104</td>\n",
       "      <td>1</td>\n",
       "      <td>0.00</td>\n",
       "      <td>0.00</td>\n",
       "      <td>2204.72</td>\n",
       "    </tr>\n",
       "    <tr>\n",
       "      <th>2016-11-28</th>\n",
       "      <td>2204.72</td>\n",
       "      <td>-0.000277</td>\n",
       "      <td>-1</td>\n",
       "      <td>0.00</td>\n",
       "      <td>-0.00</td>\n",
       "      <td>2204.72</td>\n",
       "    </tr>\n",
       "    <tr>\n",
       "      <th>2016-11-29</th>\n",
       "      <td>2201.72</td>\n",
       "      <td>-0.000763</td>\n",
       "      <td>-1</td>\n",
       "      <td>-3.00</td>\n",
       "      <td>3.00</td>\n",
       "      <td>2207.72</td>\n",
       "    </tr>\n",
       "  </tbody>\n",
       "</table>\n",
       "</div>"
      ],
      "text/plain": [
       "              Price    Signal  Order  Price_change  Profit   Wealth\n",
       "2016-11-22  2198.18  0.003352      1           NaN     NaN      NaN\n",
       "2016-11-24  2204.72  0.004544      1          6.54    6.54  2204.72\n",
       "2016-11-25  2204.72  0.003104      1          0.00    0.00  2204.72\n",
       "2016-11-28  2204.72 -0.000277     -1          0.00   -0.00  2204.72\n",
       "2016-11-29  2201.72 -0.000763     -1         -3.00    3.00  2207.72"
      ]
     },
     "execution_count": 15,
     "metadata": {},
     "output_type": "execute_result"
    }
   ],
   "source": [
    "Trade_Test['Order']=[1 if sig>0 else -1 for sig in Trade_Test['Signal']  ]\n",
    "Trade_Test['Price_change']=Trade_Test['Price']-Trade_Test['Price'].shift(1)\n",
    "Trade_Test['Profit']=Trade_Test['Price_change']*Trade_Test['Order']\n",
    "print(Trade_Test['Profit'].sum())\n",
    "Trade_Test['Wealth']=np.cumsum(Trade_Test['Profit'])+Trade_Test['Price'][0]\n",
    "Trade_Test.head()"
   ]
  },
  {
   "cell_type": "code",
   "execution_count": 14,
   "metadata": {
    "slideshow": {
     "slide_type": "subslide"
    }
   },
   "outputs": [
    {
     "name": "stdout",
     "output_type": "stream",
     "text": [
      "669.3899999999985\n"
     ]
    },
    {
     "data": {
      "image/png": "[encoded data removed]",
      "text/plain": [
       "<matplotlib.figure.Figure at 0x1022acbe0>"
      ]
     },
     "metadata": {},
     "output_type": "display_data"
    }
   ],
   "source": [
    "plt.figure(figsize=(20,10))\n",
    "plt.plot(Trade_Test['Wealth'])\n",
    "plt.plot(Trade_Test['Price'])\n",
    "print(Trade_Test['Profit'].sum())"
   ]
  },
  {
   "cell_type": "markdown",
   "metadata": {
    "slideshow": {
     "slide_type": "slide"
    }
   },
   "source": [
    "## sharpe ratio"
   ]
  },
  {
   "cell_type": "code",
   "execution_count": 15,
   "metadata": {
    "cell_style": "center",
    "slideshow": {
     "slide_type": "subslide"
    }
   },
   "outputs": [
    {
     "name": "stdout",
     "output_type": "stream",
     "text": [
      "daily sharpe ratio is  0.35527189022345096\n",
      "yearly sharpe ratio is 5.269533709565548\n"
     ]
    }
   ],
   "source": [
    "Trade_Test.head()\n",
    "# daily return\n",
    "Trade_Test['Return']=(Trade_Test['Wealth']\n",
    "                      -Trade_Test['Wealth'].shift(1))/Trade_Test['Wealth'].shift(1)\n",
    "dailyr=Trade_Test['Return'].dropna()\n",
    "print(\"daily sharpe ratio is \", dailyr.mean()/dailyr.std(ddof=1))\n",
    "print(\"yearly sharpe ratio is\", (220**0.5)*dailyr.mean()/dailyr.std(ddof=1))"
   ]
  },
  {
   "cell_type": "code",
   "execution_count": 19,
   "metadata": {
    "cell_style": "split"
   },
   "outputs": [
    {
     "name": "stdout",
     "output_type": "stream",
     "text": [
      "10\n"
     ]
    }
   ],
   "source": [
    "print(10)"
   ]
  },
  {
   "cell_type": "markdown",
   "metadata": {
    "slideshow": {
     "slide_type": "slide"
    }
   },
   "source": [
    "### Drawdown "
   ]
  },
  {
   "cell_type": "code",
   "execution_count": 16,
   "metadata": {
    "slideshow": {
     "slide_type": "subslide"
    }
   },
   "outputs": [
    {
     "data": {
      "text/html": [
       "<div>\n",
       "<style>\n",
       "    .dataframe thead tr:only-child th {\n",
       "        text-align: right;\n",
       "    }\n",
       "\n",
       "    .dataframe thead th {\n",
       "        text-align: left;\n",
       "    }\n",
       "\n",
       "    .dataframe tbody tr th {\n",
       "        vertical-align: top;\n",
       "    }\n",
       "</style>\n",
       "<table border=\"1\" class=\"dataframe\">\n",
       "  <thead>\n",
       "    <tr style=\"text-align: right;\">\n",
       "      <th></th>\n",
       "      <th>Price</th>\n",
       "      <th>Signal</th>\n",
       "      <th>Order</th>\n",
       "      <th>Price_change</th>\n",
       "      <th>Profit</th>\n",
       "      <th>Wealth</th>\n",
       "      <th>Return</th>\n",
       "      <th>Peak</th>\n",
       "      <th>Drawdown</th>\n",
       "    </tr>\n",
       "  </thead>\n",
       "  <tbody>\n",
       "    <tr>\n",
       "      <th>2016-11-22</th>\n",
       "      <td>2198.18</td>\n",
       "      <td>0.003352</td>\n",
       "      <td>1</td>\n",
       "      <td>NaN</td>\n",
       "      <td>NaN</td>\n",
       "      <td>NaN</td>\n",
       "      <td>NaN</td>\n",
       "      <td>NaN</td>\n",
       "      <td>NaN</td>\n",
       "    </tr>\n",
       "    <tr>\n",
       "      <th>2016-11-24</th>\n",
       "      <td>2204.72</td>\n",
       "      <td>0.004544</td>\n",
       "      <td>1</td>\n",
       "      <td>6.54</td>\n",
       "      <td>6.54</td>\n",
       "      <td>2204.72</td>\n",
       "      <td>NaN</td>\n",
       "      <td>2204.72</td>\n",
       "      <td>0.000000</td>\n",
       "    </tr>\n",
       "    <tr>\n",
       "      <th>2016-11-25</th>\n",
       "      <td>2204.72</td>\n",
       "      <td>0.003104</td>\n",
       "      <td>1</td>\n",
       "      <td>0.00</td>\n",
       "      <td>0.00</td>\n",
       "      <td>2204.72</td>\n",
       "      <td>0.000000</td>\n",
       "      <td>2204.72</td>\n",
       "      <td>0.000000</td>\n",
       "    </tr>\n",
       "    <tr>\n",
       "      <th>2016-11-28</th>\n",
       "      <td>2204.72</td>\n",
       "      <td>-0.000277</td>\n",
       "      <td>-1</td>\n",
       "      <td>0.00</td>\n",
       "      <td>-0.00</td>\n",
       "      <td>2204.72</td>\n",
       "      <td>0.000000</td>\n",
       "      <td>2204.72</td>\n",
       "      <td>0.000000</td>\n",
       "    </tr>\n",
       "    <tr>\n",
       "      <th>2016-11-29</th>\n",
       "      <td>2201.72</td>\n",
       "      <td>-0.000763</td>\n",
       "      <td>-1</td>\n",
       "      <td>-3.00</td>\n",
       "      <td>3.00</td>\n",
       "      <td>2207.72</td>\n",
       "      <td>0.001361</td>\n",
       "      <td>2207.72</td>\n",
       "      <td>0.000000</td>\n",
       "    </tr>\n",
       "    <tr>\n",
       "      <th>2016-11-30</th>\n",
       "      <td>2204.66</td>\n",
       "      <td>-0.001590</td>\n",
       "      <td>-1</td>\n",
       "      <td>2.94</td>\n",
       "      <td>-2.94</td>\n",
       "      <td>2204.78</td>\n",
       "      <td>-0.001332</td>\n",
       "      <td>2207.72</td>\n",
       "      <td>-0.001332</td>\n",
       "    </tr>\n",
       "    <tr>\n",
       "      <th>2016-12-01</th>\n",
       "      <td>2198.81</td>\n",
       "      <td>0.003008</td>\n",
       "      <td>1</td>\n",
       "      <td>-5.85</td>\n",
       "      <td>-5.85</td>\n",
       "      <td>2198.93</td>\n",
       "      <td>-0.002653</td>\n",
       "      <td>2207.72</td>\n",
       "      <td>-0.003981</td>\n",
       "    </tr>\n",
       "    <tr>\n",
       "      <th>2016-12-02</th>\n",
       "      <td>2191.08</td>\n",
       "      <td>-0.000984</td>\n",
       "      <td>-1</td>\n",
       "      <td>-7.73</td>\n",
       "      <td>7.73</td>\n",
       "      <td>2206.66</td>\n",
       "      <td>0.003515</td>\n",
       "      <td>2207.72</td>\n",
       "      <td>-0.000480</td>\n",
       "    </tr>\n",
       "    <tr>\n",
       "      <th>2016-12-05</th>\n",
       "      <td>2191.08</td>\n",
       "      <td>-0.004716</td>\n",
       "      <td>-1</td>\n",
       "      <td>0.00</td>\n",
       "      <td>-0.00</td>\n",
       "      <td>2206.66</td>\n",
       "      <td>0.000000</td>\n",
       "      <td>2207.72</td>\n",
       "      <td>-0.000480</td>\n",
       "    </tr>\n",
       "    <tr>\n",
       "      <th>2016-12-06</th>\n",
       "      <td>2204.71</td>\n",
       "      <td>0.000844</td>\n",
       "      <td>1</td>\n",
       "      <td>13.63</td>\n",
       "      <td>13.63</td>\n",
       "      <td>2220.29</td>\n",
       "      <td>0.006177</td>\n",
       "      <td>2220.29</td>\n",
       "      <td>0.000000</td>\n",
       "    </tr>\n",
       "    <tr>\n",
       "      <th>2016-12-07</th>\n",
       "      <td>2212.23</td>\n",
       "      <td>0.003619</td>\n",
       "      <td>1</td>\n",
       "      <td>7.52</td>\n",
       "      <td>7.52</td>\n",
       "      <td>2227.81</td>\n",
       "      <td>0.003387</td>\n",
       "      <td>2227.81</td>\n",
       "      <td>0.000000</td>\n",
       "    </tr>\n",
       "    <tr>\n",
       "      <th>2016-12-08</th>\n",
       "      <td>2241.35</td>\n",
       "      <td>0.006164</td>\n",
       "      <td>1</td>\n",
       "      <td>29.12</td>\n",
       "      <td>29.12</td>\n",
       "      <td>2256.93</td>\n",
       "      <td>0.013071</td>\n",
       "      <td>2256.93</td>\n",
       "      <td>0.000000</td>\n",
       "    </tr>\n",
       "    <tr>\n",
       "      <th>2016-12-09</th>\n",
       "      <td>2246.19</td>\n",
       "      <td>0.006795</td>\n",
       "      <td>1</td>\n",
       "      <td>4.84</td>\n",
       "      <td>4.84</td>\n",
       "      <td>2261.77</td>\n",
       "      <td>0.002145</td>\n",
       "      <td>2261.77</td>\n",
       "      <td>0.000000</td>\n",
       "    </tr>\n",
       "    <tr>\n",
       "      <th>2016-12-12</th>\n",
       "      <td>2246.19</td>\n",
       "      <td>0.002585</td>\n",
       "      <td>1</td>\n",
       "      <td>0.00</td>\n",
       "      <td>0.00</td>\n",
       "      <td>2261.77</td>\n",
       "      <td>0.000000</td>\n",
       "      <td>2261.77</td>\n",
       "      <td>0.000000</td>\n",
       "    </tr>\n",
       "    <tr>\n",
       "      <th>2016-12-13</th>\n",
       "      <td>2256.96</td>\n",
       "      <td>0.000104</td>\n",
       "      <td>1</td>\n",
       "      <td>10.77</td>\n",
       "      <td>10.77</td>\n",
       "      <td>2272.54</td>\n",
       "      <td>0.004762</td>\n",
       "      <td>2272.54</td>\n",
       "      <td>0.000000</td>\n",
       "    </tr>\n",
       "    <tr>\n",
       "      <th>2016-12-14</th>\n",
       "      <td>2271.72</td>\n",
       "      <td>0.000691</td>\n",
       "      <td>1</td>\n",
       "      <td>14.76</td>\n",
       "      <td>14.76</td>\n",
       "      <td>2287.30</td>\n",
       "      <td>0.006495</td>\n",
       "      <td>2287.30</td>\n",
       "      <td>0.000000</td>\n",
       "    </tr>\n",
       "    <tr>\n",
       "      <th>2016-12-15</th>\n",
       "      <td>2253.28</td>\n",
       "      <td>0.000630</td>\n",
       "      <td>1</td>\n",
       "      <td>-18.44</td>\n",
       "      <td>-18.44</td>\n",
       "      <td>2268.86</td>\n",
       "      <td>-0.008062</td>\n",
       "      <td>2287.30</td>\n",
       "      <td>-0.008062</td>\n",
       "    </tr>\n",
       "    <tr>\n",
       "      <th>2016-12-16</th>\n",
       "      <td>2262.03</td>\n",
       "      <td>-0.000744</td>\n",
       "      <td>-1</td>\n",
       "      <td>8.75</td>\n",
       "      <td>-8.75</td>\n",
       "      <td>2260.11</td>\n",
       "      <td>-0.003857</td>\n",
       "      <td>2287.30</td>\n",
       "      <td>-0.011887</td>\n",
       "    </tr>\n",
       "    <tr>\n",
       "      <th>2016-12-19</th>\n",
       "      <td>2262.03</td>\n",
       "      <td>0.002107</td>\n",
       "      <td>1</td>\n",
       "      <td>0.00</td>\n",
       "      <td>0.00</td>\n",
       "      <td>2260.11</td>\n",
       "      <td>0.000000</td>\n",
       "      <td>2287.30</td>\n",
       "      <td>-0.011887</td>\n",
       "    </tr>\n",
       "    <tr>\n",
       "      <th>2016-12-20</th>\n",
       "      <td>2262.53</td>\n",
       "      <td>0.001231</td>\n",
       "      <td>1</td>\n",
       "      <td>0.50</td>\n",
       "      <td>0.50</td>\n",
       "      <td>2260.61</td>\n",
       "      <td>0.000221</td>\n",
       "      <td>2287.30</td>\n",
       "      <td>-0.011669</td>\n",
       "    </tr>\n",
       "    <tr>\n",
       "      <th>2016-12-21</th>\n",
       "      <td>2270.76</td>\n",
       "      <td>0.001175</td>\n",
       "      <td>1</td>\n",
       "      <td>8.23</td>\n",
       "      <td>8.23</td>\n",
       "      <td>2268.84</td>\n",
       "      <td>0.003641</td>\n",
       "      <td>2287.30</td>\n",
       "      <td>-0.008071</td>\n",
       "    </tr>\n",
       "    <tr>\n",
       "      <th>2016-12-22</th>\n",
       "      <td>2265.18</td>\n",
       "      <td>0.001498</td>\n",
       "      <td>1</td>\n",
       "      <td>-5.58</td>\n",
       "      <td>-5.58</td>\n",
       "      <td>2263.26</td>\n",
       "      <td>-0.002459</td>\n",
       "      <td>2287.30</td>\n",
       "      <td>-0.010510</td>\n",
       "    </tr>\n",
       "    <tr>\n",
       "      <th>2016-12-26</th>\n",
       "      <td>2265.18</td>\n",
       "      <td>-0.000530</td>\n",
       "      <td>-1</td>\n",
       "      <td>0.00</td>\n",
       "      <td>-0.00</td>\n",
       "      <td>2263.26</td>\n",
       "      <td>0.000000</td>\n",
       "      <td>2287.30</td>\n",
       "      <td>-0.010510</td>\n",
       "    </tr>\n",
       "    <tr>\n",
       "      <th>2016-12-27</th>\n",
       "      <td>2265.18</td>\n",
       "      <td>0.000054</td>\n",
       "      <td>1</td>\n",
       "      <td>0.00</td>\n",
       "      <td>0.00</td>\n",
       "      <td>2263.26</td>\n",
       "      <td>0.000000</td>\n",
       "      <td>2287.30</td>\n",
       "      <td>-0.010510</td>\n",
       "    </tr>\n",
       "    <tr>\n",
       "      <th>2016-12-28</th>\n",
       "      <td>2268.88</td>\n",
       "      <td>0.001467</td>\n",
       "      <td>1</td>\n",
       "      <td>3.70</td>\n",
       "      <td>3.70</td>\n",
       "      <td>2266.96</td>\n",
       "      <td>0.001635</td>\n",
       "      <td>2287.30</td>\n",
       "      <td>-0.008893</td>\n",
       "    </tr>\n",
       "    <tr>\n",
       "      <th>2016-12-29</th>\n",
       "      <td>2249.92</td>\n",
       "      <td>-0.000836</td>\n",
       "      <td>-1</td>\n",
       "      <td>-18.96</td>\n",
       "      <td>18.96</td>\n",
       "      <td>2285.92</td>\n",
       "      <td>0.008364</td>\n",
       "      <td>2287.30</td>\n",
       "      <td>-0.000603</td>\n",
       "    </tr>\n",
       "    <tr>\n",
       "      <th>2016-12-30</th>\n",
       "      <td>2249.26</td>\n",
       "      <td>-0.000089</td>\n",
       "      <td>-1</td>\n",
       "      <td>-0.66</td>\n",
       "      <td>0.66</td>\n",
       "      <td>2286.58</td>\n",
       "      <td>0.000289</td>\n",
       "      <td>2287.30</td>\n",
       "      <td>-0.000315</td>\n",
       "    </tr>\n",
       "    <tr>\n",
       "      <th>2017-01-04</th>\n",
       "      <td>2257.83</td>\n",
       "      <td>0.006529</td>\n",
       "      <td>1</td>\n",
       "      <td>8.57</td>\n",
       "      <td>8.57</td>\n",
       "      <td>2295.15</td>\n",
       "      <td>0.003748</td>\n",
       "      <td>2295.15</td>\n",
       "      <td>0.000000</td>\n",
       "    </tr>\n",
       "    <tr>\n",
       "      <th>2017-01-05</th>\n",
       "      <td>2270.75</td>\n",
       "      <td>0.004211</td>\n",
       "      <td>1</td>\n",
       "      <td>12.92</td>\n",
       "      <td>12.92</td>\n",
       "      <td>2308.07</td>\n",
       "      <td>0.005629</td>\n",
       "      <td>2308.07</td>\n",
       "      <td>0.000000</td>\n",
       "    </tr>\n",
       "    <tr>\n",
       "      <th>2017-01-06</th>\n",
       "      <td>2269.00</td>\n",
       "      <td>0.000686</td>\n",
       "      <td>1</td>\n",
       "      <td>-1.75</td>\n",
       "      <td>-1.75</td>\n",
       "      <td>2306.32</td>\n",
       "      <td>-0.000758</td>\n",
       "      <td>2308.07</td>\n",
       "      <td>-0.000758</td>\n",
       "    </tr>\n",
       "    <tr>\n",
       "      <th>...</th>\n",
       "      <td>...</td>\n",
       "      <td>...</td>\n",
       "      <td>...</td>\n",
       "      <td>...</td>\n",
       "      <td>...</td>\n",
       "      <td>...</td>\n",
       "      <td>...</td>\n",
       "      <td>...</td>\n",
       "      <td>...</td>\n",
       "    </tr>\n",
       "    <tr>\n",
       "      <th>2017-07-24</th>\n",
       "      <td>2473.45</td>\n",
       "      <td>-0.002841</td>\n",
       "      <td>-1</td>\n",
       "      <td>0.00</td>\n",
       "      <td>-0.00</td>\n",
       "      <td>2784.59</td>\n",
       "      <td>0.000000</td>\n",
       "      <td>2784.97</td>\n",
       "      <td>-0.000136</td>\n",
       "    </tr>\n",
       "    <tr>\n",
       "      <th>2017-07-25</th>\n",
       "      <td>2469.91</td>\n",
       "      <td>-0.000880</td>\n",
       "      <td>-1</td>\n",
       "      <td>-3.54</td>\n",
       "      <td>3.54</td>\n",
       "      <td>2788.13</td>\n",
       "      <td>0.001271</td>\n",
       "      <td>2788.13</td>\n",
       "      <td>0.000000</td>\n",
       "    </tr>\n",
       "    <tr>\n",
       "      <th>2017-07-26</th>\n",
       "      <td>2477.13</td>\n",
       "      <td>0.003679</td>\n",
       "      <td>1</td>\n",
       "      <td>7.22</td>\n",
       "      <td>7.22</td>\n",
       "      <td>2795.35</td>\n",
       "      <td>0.002590</td>\n",
       "      <td>2795.35</td>\n",
       "      <td>0.000000</td>\n",
       "    </tr>\n",
       "    <tr>\n",
       "      <th>2017-07-27</th>\n",
       "      <td>2477.83</td>\n",
       "      <td>0.001910</td>\n",
       "      <td>1</td>\n",
       "      <td>0.70</td>\n",
       "      <td>0.70</td>\n",
       "      <td>2796.05</td>\n",
       "      <td>0.000250</td>\n",
       "      <td>2796.05</td>\n",
       "      <td>0.000000</td>\n",
       "    </tr>\n",
       "    <tr>\n",
       "      <th>2017-07-28</th>\n",
       "      <td>2475.42</td>\n",
       "      <td>-0.002785</td>\n",
       "      <td>-1</td>\n",
       "      <td>-2.41</td>\n",
       "      <td>2.41</td>\n",
       "      <td>2798.46</td>\n",
       "      <td>0.000862</td>\n",
       "      <td>2798.46</td>\n",
       "      <td>0.000000</td>\n",
       "    </tr>\n",
       "    <tr>\n",
       "      <th>2017-07-31</th>\n",
       "      <td>2475.42</td>\n",
       "      <td>-0.002117</td>\n",
       "      <td>-1</td>\n",
       "      <td>0.00</td>\n",
       "      <td>-0.00</td>\n",
       "      <td>2798.46</td>\n",
       "      <td>0.000000</td>\n",
       "      <td>2798.46</td>\n",
       "      <td>0.000000</td>\n",
       "    </tr>\n",
       "    <tr>\n",
       "      <th>2017-08-01</th>\n",
       "      <td>2470.30</td>\n",
       "      <td>0.002880</td>\n",
       "      <td>1</td>\n",
       "      <td>-5.12</td>\n",
       "      <td>-5.12</td>\n",
       "      <td>2793.34</td>\n",
       "      <td>-0.001830</td>\n",
       "      <td>2798.46</td>\n",
       "      <td>-0.001830</td>\n",
       "    </tr>\n",
       "    <tr>\n",
       "      <th>2017-08-02</th>\n",
       "      <td>2476.35</td>\n",
       "      <td>0.002135</td>\n",
       "      <td>1</td>\n",
       "      <td>6.05</td>\n",
       "      <td>6.05</td>\n",
       "      <td>2799.39</td>\n",
       "      <td>0.002166</td>\n",
       "      <td>2799.39</td>\n",
       "      <td>0.000000</td>\n",
       "    </tr>\n",
       "    <tr>\n",
       "      <th>2017-08-03</th>\n",
       "      <td>2477.57</td>\n",
       "      <td>-0.000441</td>\n",
       "      <td>-1</td>\n",
       "      <td>1.22</td>\n",
       "      <td>-1.22</td>\n",
       "      <td>2798.17</td>\n",
       "      <td>-0.000436</td>\n",
       "      <td>2799.39</td>\n",
       "      <td>-0.000436</td>\n",
       "    </tr>\n",
       "    <tr>\n",
       "      <th>2017-08-04</th>\n",
       "      <td>2472.16</td>\n",
       "      <td>0.000173</td>\n",
       "      <td>1</td>\n",
       "      <td>-5.41</td>\n",
       "      <td>-5.41</td>\n",
       "      <td>2792.76</td>\n",
       "      <td>-0.001933</td>\n",
       "      <td>2799.39</td>\n",
       "      <td>-0.002368</td>\n",
       "    </tr>\n",
       "    <tr>\n",
       "      <th>2017-08-07</th>\n",
       "      <td>2472.16</td>\n",
       "      <td>0.002993</td>\n",
       "      <td>1</td>\n",
       "      <td>0.00</td>\n",
       "      <td>0.00</td>\n",
       "      <td>2792.76</td>\n",
       "      <td>0.000000</td>\n",
       "      <td>2799.39</td>\n",
       "      <td>-0.002368</td>\n",
       "    </tr>\n",
       "    <tr>\n",
       "      <th>2017-08-08</th>\n",
       "      <td>2480.91</td>\n",
       "      <td>0.000302</td>\n",
       "      <td>1</td>\n",
       "      <td>8.75</td>\n",
       "      <td>8.75</td>\n",
       "      <td>2801.51</td>\n",
       "      <td>0.003133</td>\n",
       "      <td>2801.51</td>\n",
       "      <td>0.000000</td>\n",
       "    </tr>\n",
       "    <tr>\n",
       "      <th>2017-08-09</th>\n",
       "      <td>2474.92</td>\n",
       "      <td>-0.001023</td>\n",
       "      <td>-1</td>\n",
       "      <td>-5.99</td>\n",
       "      <td>5.99</td>\n",
       "      <td>2807.50</td>\n",
       "      <td>0.002138</td>\n",
       "      <td>2807.50</td>\n",
       "      <td>0.000000</td>\n",
       "    </tr>\n",
       "    <tr>\n",
       "      <th>2017-08-10</th>\n",
       "      <td>2474.02</td>\n",
       "      <td>-0.002350</td>\n",
       "      <td>-1</td>\n",
       "      <td>-0.90</td>\n",
       "      <td>0.90</td>\n",
       "      <td>2808.40</td>\n",
       "      <td>0.000321</td>\n",
       "      <td>2808.40</td>\n",
       "      <td>0.000000</td>\n",
       "    </tr>\n",
       "    <tr>\n",
       "      <th>2017-08-14</th>\n",
       "      <td>2474.02</td>\n",
       "      <td>-0.005454</td>\n",
       "      <td>-1</td>\n",
       "      <td>0.00</td>\n",
       "      <td>-0.00</td>\n",
       "      <td>2808.40</td>\n",
       "      <td>0.000000</td>\n",
       "      <td>2808.40</td>\n",
       "      <td>0.000000</td>\n",
       "    </tr>\n",
       "    <tr>\n",
       "      <th>2017-08-15</th>\n",
       "      <td>2465.84</td>\n",
       "      <td>0.000340</td>\n",
       "      <td>1</td>\n",
       "      <td>-8.18</td>\n",
       "      <td>-8.18</td>\n",
       "      <td>2800.22</td>\n",
       "      <td>-0.002913</td>\n",
       "      <td>2808.40</td>\n",
       "      <td>-0.002913</td>\n",
       "    </tr>\n",
       "    <tr>\n",
       "      <th>2017-08-16</th>\n",
       "      <td>2464.61</td>\n",
       "      <td>0.002353</td>\n",
       "      <td>1</td>\n",
       "      <td>-1.23</td>\n",
       "      <td>-1.23</td>\n",
       "      <td>2798.99</td>\n",
       "      <td>-0.000439</td>\n",
       "      <td>2808.40</td>\n",
       "      <td>-0.003351</td>\n",
       "    </tr>\n",
       "    <tr>\n",
       "      <th>2017-08-17</th>\n",
       "      <td>2468.11</td>\n",
       "      <td>0.001387</td>\n",
       "      <td>1</td>\n",
       "      <td>3.50</td>\n",
       "      <td>3.50</td>\n",
       "      <td>2802.49</td>\n",
       "      <td>0.001250</td>\n",
       "      <td>2808.40</td>\n",
       "      <td>-0.002104</td>\n",
       "    </tr>\n",
       "    <tr>\n",
       "      <th>2017-08-18</th>\n",
       "      <td>2430.01</td>\n",
       "      <td>-0.003906</td>\n",
       "      <td>-1</td>\n",
       "      <td>-38.10</td>\n",
       "      <td>38.10</td>\n",
       "      <td>2840.59</td>\n",
       "      <td>0.013595</td>\n",
       "      <td>2840.59</td>\n",
       "      <td>0.000000</td>\n",
       "    </tr>\n",
       "    <tr>\n",
       "      <th>2017-08-21</th>\n",
       "      <td>2430.01</td>\n",
       "      <td>-0.003983</td>\n",
       "      <td>-1</td>\n",
       "      <td>0.00</td>\n",
       "      <td>-0.00</td>\n",
       "      <td>2840.59</td>\n",
       "      <td>0.000000</td>\n",
       "      <td>2840.59</td>\n",
       "      <td>0.000000</td>\n",
       "    </tr>\n",
       "    <tr>\n",
       "      <th>2017-08-22</th>\n",
       "      <td>2428.37</td>\n",
       "      <td>0.000690</td>\n",
       "      <td>1</td>\n",
       "      <td>-1.64</td>\n",
       "      <td>-1.64</td>\n",
       "      <td>2838.95</td>\n",
       "      <td>-0.000577</td>\n",
       "      <td>2840.59</td>\n",
       "      <td>-0.000577</td>\n",
       "    </tr>\n",
       "    <tr>\n",
       "      <th>2017-08-23</th>\n",
       "      <td>2452.51</td>\n",
       "      <td>0.002142</td>\n",
       "      <td>1</td>\n",
       "      <td>24.14</td>\n",
       "      <td>24.14</td>\n",
       "      <td>2863.09</td>\n",
       "      <td>0.008503</td>\n",
       "      <td>2863.09</td>\n",
       "      <td>0.000000</td>\n",
       "    </tr>\n",
       "    <tr>\n",
       "      <th>2017-08-24</th>\n",
       "      <td>2444.04</td>\n",
       "      <td>0.000017</td>\n",
       "      <td>1</td>\n",
       "      <td>-8.47</td>\n",
       "      <td>-8.47</td>\n",
       "      <td>2854.62</td>\n",
       "      <td>-0.002958</td>\n",
       "      <td>2863.09</td>\n",
       "      <td>-0.002958</td>\n",
       "    </tr>\n",
       "    <tr>\n",
       "      <th>2017-08-25</th>\n",
       "      <td>2438.97</td>\n",
       "      <td>0.001666</td>\n",
       "      <td>1</td>\n",
       "      <td>-5.07</td>\n",
       "      <td>-5.07</td>\n",
       "      <td>2849.55</td>\n",
       "      <td>-0.001776</td>\n",
       "      <td>2863.09</td>\n",
       "      <td>-0.004729</td>\n",
       "    </tr>\n",
       "    <tr>\n",
       "      <th>2017-08-28</th>\n",
       "      <td>2438.97</td>\n",
       "      <td>0.000105</td>\n",
       "      <td>1</td>\n",
       "      <td>0.00</td>\n",
       "      <td>0.00</td>\n",
       "      <td>2849.55</td>\n",
       "      <td>0.000000</td>\n",
       "      <td>2863.09</td>\n",
       "      <td>-0.004729</td>\n",
       "    </tr>\n",
       "    <tr>\n",
       "      <th>2017-08-29</th>\n",
       "      <td>2444.24</td>\n",
       "      <td>-0.001871</td>\n",
       "      <td>-1</td>\n",
       "      <td>5.27</td>\n",
       "      <td>-5.27</td>\n",
       "      <td>2844.28</td>\n",
       "      <td>-0.001849</td>\n",
       "      <td>2863.09</td>\n",
       "      <td>-0.006570</td>\n",
       "    </tr>\n",
       "    <tr>\n",
       "      <th>2017-08-30</th>\n",
       "      <td>2446.30</td>\n",
       "      <td>-0.000694</td>\n",
       "      <td>-1</td>\n",
       "      <td>2.06</td>\n",
       "      <td>-2.06</td>\n",
       "      <td>2842.22</td>\n",
       "      <td>-0.000724</td>\n",
       "      <td>2863.09</td>\n",
       "      <td>-0.007289</td>\n",
       "    </tr>\n",
       "    <tr>\n",
       "      <th>2017-08-31</th>\n",
       "      <td>2457.59</td>\n",
       "      <td>0.004185</td>\n",
       "      <td>1</td>\n",
       "      <td>11.29</td>\n",
       "      <td>11.29</td>\n",
       "      <td>2853.51</td>\n",
       "      <td>0.003972</td>\n",
       "      <td>2863.09</td>\n",
       "      <td>-0.003346</td>\n",
       "    </tr>\n",
       "    <tr>\n",
       "      <th>2017-09-01</th>\n",
       "      <td>2471.65</td>\n",
       "      <td>0.002665</td>\n",
       "      <td>1</td>\n",
       "      <td>14.06</td>\n",
       "      <td>14.06</td>\n",
       "      <td>2867.57</td>\n",
       "      <td>0.004927</td>\n",
       "      <td>2867.57</td>\n",
       "      <td>0.000000</td>\n",
       "    </tr>\n",
       "    <tr>\n",
       "      <th>2017-09-04</th>\n",
       "      <td>2471.65</td>\n",
       "      <td>-0.001695</td>\n",
       "      <td>-1</td>\n",
       "      <td>0.00</td>\n",
       "      <td>-0.00</td>\n",
       "      <td>2867.57</td>\n",
       "      <td>0.000000</td>\n",
       "      <td>2867.57</td>\n",
       "      <td>0.000000</td>\n",
       "    </tr>\n",
       "  </tbody>\n",
       "</table>\n",
       "<p>194 rows × 9 columns</p>\n",
       "</div>"
      ],
      "text/plain": [
       "              Price    Signal  Order  Price_change  Profit   Wealth    Return  \\\n",
       "2016-11-22  2198.18  0.003352      1           NaN     NaN      NaN       NaN   \n",
       "2016-11-24  2204.72  0.004544      1          6.54    6.54  2204.72       NaN   \n",
       "2016-11-25  2204.72  0.003104      1          0.00    0.00  2204.72  0.000000   \n",
       "2016-11-28  2204.72 -0.000277     -1          0.00   -0.00  2204.72  0.000000   \n",
       "2016-11-29  2201.72 -0.000763     -1         -3.00    3.00  2207.72  0.001361   \n",
       "2016-11-30  2204.66 -0.001590     -1          2.94   -2.94  2204.78 -0.001332   \n",
       "2016-12-01  2198.81  0.003008      1         -5.85   -5.85  2198.93 -0.002653   \n",
       "2016-12-02  2191.08 -0.000984     -1         -7.73    7.73  2206.66  0.003515   \n",
       "2016-12-05  2191.08 -0.004716     -1          0.00   -0.00  2206.66  0.000000   \n",
       "2016-12-06  2204.71  0.000844      1         13.63   13.63  2220.29  0.006177   \n",
       "2016-12-07  2212.23  0.003619      1          7.52    7.52  2227.81  0.003387   \n",
       "2016-12-08  2241.35  0.006164      1         29.12   29.12  2256.93  0.013071   \n",
       "2016-12-09  2246.19  0.006795      1          4.84    4.84  2261.77  0.002145   \n",
       "2016-12-12  2246.19  0.002585      1          0.00    0.00  2261.77  0.000000   \n",
       "2016-12-13  2256.96  0.000104      1         10.77   10.77  2272.54  0.004762   \n",
       "2016-12-14  2271.72  0.000691      1         14.76   14.76  2287.30  0.006495   \n",
       "2016-12-15  2253.28  0.000630      1        -18.44  -18.44  2268.86 -0.008062   \n",
       "2016-12-16  2262.03 -0.000744     -1          8.75   -8.75  2260.11 -0.003857   \n",
       "2016-12-19  2262.03  0.002107      1          0.00    0.00  2260.11  0.000000   \n",
       "2016-12-20  2262.53  0.001231      1          0.50    0.50  2260.61  0.000221   \n",
       "2016-12-21  2270.76  0.001175      1          8.23    8.23  2268.84  0.003641   \n",
       "2016-12-22  2265.18  0.001498      1         -5.58   -5.58  2263.26 -0.002459   \n",
       "2016-12-26  2265.18 -0.000530     -1          0.00   -0.00  2263.26  0.000000   \n",
       "2016-12-27  2265.18  0.000054      1          0.00    0.00  2263.26  0.000000   \n",
       "2016-12-28  2268.88  0.001467      1          3.70    3.70  2266.96  0.001635   \n",
       "2016-12-29  2249.92 -0.000836     -1        -18.96   18.96  2285.92  0.008364   \n",
       "2016-12-30  2249.26 -0.000089     -1         -0.66    0.66  2286.58  0.000289   \n",
       "2017-01-04  2257.83  0.006529      1          8.57    8.57  2295.15  0.003748   \n",
       "2017-01-05  2270.75  0.004211      1         12.92   12.92  2308.07  0.005629   \n",
       "2017-01-06  2269.00  0.000686      1         -1.75   -1.75  2306.32 -0.000758   \n",
       "...             ...       ...    ...           ...     ...      ...       ...   \n",
       "2017-07-24  2473.45 -0.002841     -1          0.00   -0.00  2784.59  0.000000   \n",
       "2017-07-25  2469.91 -0.000880     -1         -3.54    3.54  2788.13  0.001271   \n",
       "2017-07-26  2477.13  0.003679      1          7.22    7.22  2795.35  0.002590   \n",
       "2017-07-27  2477.83  0.001910      1          0.70    0.70  2796.05  0.000250   \n",
       "2017-07-28  2475.42 -0.002785     -1         -2.41    2.41  2798.46  0.000862   \n",
       "2017-07-31  2475.42 -0.002117     -1          0.00   -0.00  2798.46  0.000000   \n",
       "2017-08-01  2470.30  0.002880      1         -5.12   -5.12  2793.34 -0.001830   \n",
       "2017-08-02  2476.35  0.002135      1          6.05    6.05  2799.39  0.002166   \n",
       "2017-08-03  2477.57 -0.000441     -1          1.22   -1.22  2798.17 -0.000436   \n",
       "2017-08-04  2472.16  0.000173      1         -5.41   -5.41  2792.76 -0.001933   \n",
       "2017-08-07  2472.16  0.002993      1          0.00    0.00  2792.76  0.000000   \n",
       "2017-08-08  2480.91  0.000302      1          8.75    8.75  2801.51  0.003133   \n",
       "2017-08-09  2474.92 -0.001023     -1         -5.99    5.99  2807.50  0.002138   \n",
       "2017-08-10  2474.02 -0.002350     -1         -0.90    0.90  2808.40  0.000321   \n",
       "2017-08-14  2474.02 -0.005454     -1          0.00   -0.00  2808.40  0.000000   \n",
       "2017-08-15  2465.84  0.000340      1         -8.18   -8.18  2800.22 -0.002913   \n",
       "2017-08-16  2464.61  0.002353      1         -1.23   -1.23  2798.99 -0.000439   \n",
       "2017-08-17  2468.11  0.001387      1          3.50    3.50  2802.49  0.001250   \n",
       "2017-08-18  2430.01 -0.003906     -1        -38.10   38.10  2840.59  0.013595   \n",
       "2017-08-21  2430.01 -0.003983     -1          0.00   -0.00  2840.59  0.000000   \n",
       "2017-08-22  2428.37  0.000690      1         -1.64   -1.64  2838.95 -0.000577   \n",
       "2017-08-23  2452.51  0.002142      1         24.14   24.14  2863.09  0.008503   \n",
       "2017-08-24  2444.04  0.000017      1         -8.47   -8.47  2854.62 -0.002958   \n",
       "2017-08-25  2438.97  0.001666      1         -5.07   -5.07  2849.55 -0.001776   \n",
       "2017-08-28  2438.97  0.000105      1          0.00    0.00  2849.55  0.000000   \n",
       "2017-08-29  2444.24 -0.001871     -1          5.27   -5.27  2844.28 -0.001849   \n",
       "2017-08-30  2446.30 -0.000694     -1          2.06   -2.06  2842.22 -0.000724   \n",
       "2017-08-31  2457.59  0.004185      1         11.29   11.29  2853.51  0.003972   \n",
       "2017-09-01  2471.65  0.002665      1         14.06   14.06  2867.57  0.004927   \n",
       "2017-09-04  2471.65 -0.001695     -1          0.00   -0.00  2867.57  0.000000   \n",
       "\n",
       "               Peak  Drawdown  \n",
       "2016-11-22      NaN       NaN  \n",
       "2016-11-24  2204.72  0.000000  \n",
       "2016-11-25  2204.72  0.000000  \n",
       "2016-11-28  2204.72  0.000000  \n",
       "2016-11-29  2207.72  0.000000  \n",
       "2016-11-30  2207.72 -0.001332  \n",
       "2016-12-01  2207.72 -0.003981  \n",
       "2016-12-02  2207.72 -0.000480  \n",
       "2016-12-05  2207.72 -0.000480  \n",
       "2016-12-06  2220.29  0.000000  \n",
       "2016-12-07  2227.81  0.000000  \n",
       "2016-12-08  2256.93  0.000000  \n",
       "2016-12-09  2261.77  0.000000  \n",
       "2016-12-12  2261.77  0.000000  \n",
       "2016-12-13  2272.54  0.000000  \n",
       "2016-12-14  2287.30  0.000000  \n",
       "2016-12-15  2287.30 -0.008062  \n",
       "2016-12-16  2287.30 -0.011887  \n",
       "2016-12-19  2287.30 -0.011887  \n",
       "2016-12-20  2287.30 -0.011669  \n",
       "2016-12-21  2287.30 -0.008071  \n",
       "2016-12-22  2287.30 -0.010510  \n",
       "2016-12-26  2287.30 -0.010510  \n",
       "2016-12-27  2287.30 -0.010510  \n",
       "2016-12-28  2287.30 -0.008893  \n",
       "2016-12-29  2287.30 -0.000603  \n",
       "2016-12-30  2287.30 -0.000315  \n",
       "2017-01-04  2295.15  0.000000  \n",
       "2017-01-05  2308.07  0.000000  \n",
       "2017-01-06  2308.07 -0.000758  \n",
       "...             ...       ...  \n",
       "2017-07-24  2784.97 -0.000136  \n",
       "2017-07-25  2788.13  0.000000  \n",
       "2017-07-26  2795.35  0.000000  \n",
       "2017-07-27  2796.05  0.000000  \n",
       "2017-07-28  2798.46  0.000000  \n",
       "2017-07-31  2798.46  0.000000  \n",
       "2017-08-01  2798.46 -0.001830  \n",
       "2017-08-02  2799.39  0.000000  \n",
       "2017-08-03  2799.39 -0.000436  \n",
       "2017-08-04  2799.39 -0.002368  \n",
       "2017-08-07  2799.39 -0.002368  \n",
       "2017-08-08  2801.51  0.000000  \n",
       "2017-08-09  2807.50  0.000000  \n",
       "2017-08-10  2808.40  0.000000  \n",
       "2017-08-14  2808.40  0.000000  \n",
       "2017-08-15  2808.40 -0.002913  \n",
       "2017-08-16  2808.40 -0.003351  \n",
       "2017-08-17  2808.40 -0.002104  \n",
       "2017-08-18  2840.59  0.000000  \n",
       "2017-08-21  2840.59  0.000000  \n",
       "2017-08-22  2840.59 -0.000577  \n",
       "2017-08-23  2863.09  0.000000  \n",
       "2017-08-24  2863.09 -0.002958  \n",
       "2017-08-25  2863.09 -0.004729  \n",
       "2017-08-28  2863.09 -0.004729  \n",
       "2017-08-29  2863.09 -0.006570  \n",
       "2017-08-30  2863.09 -0.007289  \n",
       "2017-08-31  2863.09 -0.003346  \n",
       "2017-09-01  2867.57  0.000000  \n",
       "2017-09-04  2867.57  0.000000  \n",
       "\n",
       "[194 rows x 9 columns]"
      ]
     },
     "execution_count": 16,
     "metadata": {},
     "output_type": "execute_result"
    }
   ],
   "source": [
    "# list comprehension \n",
    "Trade_Test['Peak']=[Trade_Test['Wealth'].loc[:any_index].max() \n",
    "                    for any_index in Trade_Test.index ]\n",
    "Trade_Test['Drawdown']=(Trade_Test['Wealth']-Trade_Test['Peak'])/Trade_Test['Peak']\n",
    "Trade_Test"
   ]
  },
  {
   "cell_type": "code",
   "execution_count": 59,
   "metadata": {},
   "outputs": [
    {
     "name": "stdout",
     "output_type": "stream",
     "text": [
      "Maximum drawdown rate is -0.0118873781314\n"
     ]
    }
   ],
   "source": [
    "print(\"Maximum drawdown rate is\", Trade_Test['Drawdown'].min())\n"
   ]
  }
 ],
 "metadata": {
  "celltoolbar": "Slideshow",
  "kernelspec": {
   "display_name": "Python 3",
   "language": "python",
   "name": "python3"
  },
  "language_info": {
   "codemirror_mode": {
    "name": "ipython",
    "version": 3
   },
   "file_extension": ".py",
   "mimetype": "text/x-python",
   "name": "python",
   "nbconvert_exporter": "python",
   "pygments_lexer": "ipython3",
   "version": "3.6.2"
  },
  "latex_envs": {
   "LaTeX_envs_menu_present": true,
   "autocomplete": true,
   "bibliofile": "biblio.bib",
   "cite_by": "apalike",
   "current_citInitial": 1,
   "eqLabelWithNumbers": true,
   "eqNumInitial": 1,
   "hotkeys": {
    "equation": "Ctrl-E",
    "itemize": "Ctrl-I"
   },
   "labels_anchors": false,
   "latex_user_defs": false,
   "report_style_numbering": false,
   "user_envs_cfg": false
  },
  "varInspector": {
   "cols": {
    "lenName": 16,
    "lenType": 16,
    "lenVar": 40
   },
   "kernels_config": {
    "python": {
     "delete_cmd_postfix": "",
     "delete_cmd_prefix": "del ",
     "library": "var_list.py",
     "varRefreshCmd": "print(var_dic_list())"
    },
    "r": {
     "delete_cmd_postfix": ") ",
     "delete_cmd_prefix": "rm(",
     "library": "var_list.r",
     "varRefreshCmd": "cat(var_dic_list()) "
    }
   },
   "types_to_exclude": [
    "module",
    "function",
    "builtin_function_or_method",
    "instance",
    "_Feature"
   ],
   "window_display": false
  }
 },
 "nbformat": 4,
 "nbformat_minor": 2
}
